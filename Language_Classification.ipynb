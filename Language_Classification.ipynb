{
 "cells": [
  {
   "cell_type": "markdown",
   "metadata": {
    "colab_type": "text",
    "id": "l67DSMuqgT-e"
   },
   "source": [
    "# Language Classification"
   ]
  },
  {
   "cell_type": "markdown",
   "metadata": {
    "colab_type": "text",
    "id": "D3Pr76NJgouv"
   },
   "source": [
    "## NLP to classify Languages"
   ]
  },
  {
   "cell_type": "markdown",
   "metadata": {
    "colab_type": "text",
    "id": "WsZze7CR2SHl"
   },
   "source": [
    "Our goal is to create a model (Tensorflow) that can classify the language (English, Spanish, etc.) of a given sentence."
   ]
  },
  {
   "cell_type": "markdown",
   "metadata": {
    "colab_type": "text",
    "id": "zAjv_ORf3RWn"
   },
   "source": [
    "We will be mainly using Tensorflow framework along with Wikipedia, NumPy, Matplotlib, Pandas and Scikit-learn."
   ]
  },
  {
   "cell_type": "markdown",
   "metadata": {
    "colab_type": "text",
    "id": "Sstkqg1Q3A7y"
   },
   "source": [
    "## Platform"
   ]
  },
  {
   "cell_type": "markdown",
   "metadata": {
    "colab_type": "text",
    "id": "qXv0Lnzp3HaG"
   },
   "source": [
    "I am running this notebook on Google Colaboratory platform.\n",
    "\n",
    "Since it will be a simple model, so I am running this on CPU."
   ]
  },
  {
   "cell_type": "markdown",
   "metadata": {
    "colab_type": "text",
    "id": "ZOIrI1SL36YN"
   },
   "source": [
    "# Importing Libraries"
   ]
  },
  {
   "cell_type": "code",
   "execution_count": 1,
   "metadata": {
    "colab": {
     "base_uri": "https://localhost:8080/",
     "height": 292
    },
    "colab_type": "code",
    "id": "zqRh-cuHaTY4",
    "outputId": "be095445-73d1-4d8e-b8f8-a861a3546c74"
   },
   "outputs": [
    {
     "name": "stdout",
     "output_type": "stream",
     "text": [
      "Collecting wikipedia\n",
      "  Downloading https://files.pythonhosted.org/packages/67/35/25e68fbc99e672127cc6fbb14b8ec1ba3dfef035bf1e4c90f78f24a80b7d/wikipedia-1.4.0.tar.gz\n",
      "Requirement already satisfied: beautifulsoup4 in /usr/local/lib/python3.6/dist-packages (from wikipedia) (4.6.3)\n",
      "Requirement already satisfied: requests<3.0.0,>=2.0.0 in /usr/local/lib/python3.6/dist-packages (from wikipedia) (2.23.0)\n",
      "Requirement already satisfied: urllib3!=1.25.0,!=1.25.1,<1.26,>=1.21.1 in /usr/local/lib/python3.6/dist-packages (from requests<3.0.0,>=2.0.0->wikipedia) (1.24.3)\n",
      "Requirement already satisfied: certifi>=2017.4.17 in /usr/local/lib/python3.6/dist-packages (from requests<3.0.0,>=2.0.0->wikipedia) (2020.6.20)\n",
      "Requirement already satisfied: chardet<4,>=3.0.2 in /usr/local/lib/python3.6/dist-packages (from requests<3.0.0,>=2.0.0->wikipedia) (3.0.4)\n",
      "Requirement already satisfied: idna<3,>=2.5 in /usr/local/lib/python3.6/dist-packages (from requests<3.0.0,>=2.0.0->wikipedia) (2.10)\n",
      "Building wheels for collected packages: wikipedia\n",
      "  Building wheel for wikipedia (setup.py) ... \u001b[?25l\u001b[?25hdone\n",
      "  Created wheel for wikipedia: filename=wikipedia-1.4.0-cp36-none-any.whl size=11686 sha256=d5fd0c7a34ae8919db8102730515735def32277de69f3afcc6b60778fdd2f010\n",
      "  Stored in directory: /root/.cache/pip/wheels/87/2a/18/4e471fd96d12114d16fe4a446d00c3b38fb9efcb744bd31f4a\n",
      "Successfully built wikipedia\n",
      "Installing collected packages: wikipedia\n",
      "Successfully installed wikipedia-1.4.0\n"
     ]
    }
   ],
   "source": [
    "# You may not have Wikipedia module. You can install it using this cell\n",
    "!pip install wikipedia"
   ]
  },
  {
   "cell_type": "code",
   "execution_count": 1,
   "metadata": {
    "colab": {},
    "colab_type": "code",
    "id": "9dzf5Y50ZzrN"
   },
   "outputs": [],
   "source": [
    "# For files and directories\n",
    "import pickle\n",
    "import os\n",
    "\n",
    "# For data generation\n",
    "import wikipedia\n",
    "import pandas as pd\n",
    "\n",
    "# For basic operations\n",
    "import numpy as np\n",
    "\n",
    "# For image (confusion matrix) visualization\n",
    "import matplotlib.pyplot as plt\n",
    "\n",
    "# For model creation\n",
    "import tensorflow as tf\n",
    "from sklearn import utils, model_selection, preprocessing\n",
    "\n",
    "# For model evaluation\n",
    "from sklearn import metrics"
   ]
  },
  {
   "cell_type": "markdown",
   "metadata": {
    "colab_type": "text",
    "id": "KP8MAYwm5Al2"
   },
   "source": [
    "# Creating Dataset"
   ]
  },
  {
   "cell_type": "markdown",
   "metadata": {
    "colab_type": "text",
    "id": "XfPlpfbq5HwO"
   },
   "source": [
    "In this notebook, I will be classifying four languages, namely English, French, Spanish and Italian.\n",
    "\n"
   ]
  },
  {
   "cell_type": "code",
   "execution_count": null,
   "metadata": {
    "colab": {
     "base_uri": "https://localhost:8080/",
     "height": 1000
    },
    "colab_type": "code",
    "id": "Zx9K81oGbzwH",
    "outputId": "ba810e2f-f662-4520-c163-59f1606323ac"
   },
   "outputs": [
    {
     "data": {
      "text/plain": [
       "{'aa': 'Qafár af',\n",
       " 'ab': 'Аҧсшәа',\n",
       " 'abs': 'bahasa ambon',\n",
       " 'ace': 'Acèh',\n",
       " 'ady': 'адыгабзэ',\n",
       " 'ady-cyrl': 'адыгабзэ',\n",
       " 'aeb': 'تونسي/Tûnsî',\n",
       " 'aeb-arab': 'تونسي',\n",
       " 'aeb-latn': 'Tûnsî',\n",
       " 'af': 'Afrikaans',\n",
       " 'ak': 'Akan',\n",
       " 'aln': 'Gegë',\n",
       " 'als': 'Alemannisch',\n",
       " 'alt': 'тÿштÿк алтай тил',\n",
       " 'am': 'አማርኛ',\n",
       " 'ami': 'Pangcah',\n",
       " 'an': 'aragonés',\n",
       " 'ang': 'Ænglisc',\n",
       " 'anp': 'अङ्गिका',\n",
       " 'ar': 'العربية',\n",
       " 'arc': 'ܐܪܡܝܐ',\n",
       " 'arn': 'mapudungun',\n",
       " 'arq': 'جازايرية',\n",
       " 'ary': 'الدارجة',\n",
       " 'arz': 'مصرى',\n",
       " 'as': 'অসমীয়া',\n",
       " 'ase': 'American sign language',\n",
       " 'ast': 'asturianu',\n",
       " 'atj': 'Atikamekw',\n",
       " 'av': 'авар',\n",
       " 'avk': 'Kotava',\n",
       " 'awa': 'अवधी',\n",
       " 'ay': 'Aymar aru',\n",
       " 'az': 'azərbaycanca',\n",
       " 'azb': 'تۆرکجه',\n",
       " 'ba': 'башҡортса',\n",
       " 'ban': 'Basa Bali',\n",
       " 'ban-bali': 'ᬩᬲᬩᬮᬶ',\n",
       " 'bar': 'Boarisch',\n",
       " 'bat-smg': 'žemaitėška',\n",
       " 'bbc': 'Batak Toba',\n",
       " 'bbc-latn': 'Batak Toba',\n",
       " 'bcc': 'جهلسری بلوچی',\n",
       " 'bcl': 'Bikol Central',\n",
       " 'be': 'беларуская',\n",
       " 'be-tarask': 'беларуская (тарашкевіца)\\u200e',\n",
       " 'be-x-old': 'беларуская (тарашкевіца)\\u200e',\n",
       " 'bg': 'български',\n",
       " 'bgn': 'روچ کپتین بلوچی',\n",
       " 'bh': 'भोजपुरी',\n",
       " 'bho': 'भोजपुरी',\n",
       " 'bi': 'Bislama',\n",
       " 'bjn': 'Banjar',\n",
       " 'bm': 'bamanankan',\n",
       " 'bn': 'বাংলা',\n",
       " 'bo': 'བོད་ཡིག',\n",
       " 'bpy': 'বিষ্ণুপ্রিয়া মণিপুরী',\n",
       " 'bqi': 'بختیاری',\n",
       " 'br': 'brezhoneg',\n",
       " 'brh': 'Bráhuí',\n",
       " 'bs': 'bosanski',\n",
       " 'btm': 'Batak Mandailing',\n",
       " 'bto': 'Iriga Bicolano',\n",
       " 'bug': 'ᨅᨔ ᨕᨘᨁᨗ',\n",
       " 'bxr': 'буряад',\n",
       " 'ca': 'català',\n",
       " 'cbk-zam': 'Chavacano de Zamboanga',\n",
       " 'cdo': 'Mìng-dĕ̤ng-ngṳ̄',\n",
       " 'ce': 'нохчийн',\n",
       " 'ceb': 'Cebuano',\n",
       " 'ch': 'Chamoru',\n",
       " 'cho': 'Choctaw',\n",
       " 'chr': 'ᏣᎳᎩ',\n",
       " 'chy': 'Tsetsêhestâhese',\n",
       " 'ckb': 'کوردی',\n",
       " 'co': 'corsu',\n",
       " 'cps': 'Capiceño',\n",
       " 'cr': 'Nēhiyawēwin / ᓀᐦᐃᔭᐍᐏᐣ',\n",
       " 'crh': 'qırımtatarca',\n",
       " 'crh-cyrl': 'къырымтатарджа (Кирилл)\\u200e',\n",
       " 'crh-latn': 'qırımtatarca (Latin)\\u200e',\n",
       " 'cs': 'čeština',\n",
       " 'csb': 'kaszëbsczi',\n",
       " 'cu': 'словѣньскъ / ⰔⰎⰑⰂⰡⰐⰠⰔⰍⰟ',\n",
       " 'cv': 'Чӑвашла',\n",
       " 'cy': 'Cymraeg',\n",
       " 'da': 'dansk',\n",
       " 'de': 'Deutsch',\n",
       " 'de-at': 'Österreichisches Deutsch',\n",
       " 'de-ch': 'Schweizer Hochdeutsch',\n",
       " 'de-formal': 'Deutsch (Sie-Form)\\u200e',\n",
       " 'din': 'Thuɔŋjäŋ',\n",
       " 'diq': 'Zazaki',\n",
       " 'dsb': 'dolnoserbski',\n",
       " 'dtp': 'Dusun Bundu-liwan',\n",
       " 'dty': 'डोटेली',\n",
       " 'dv': 'ދިވެހިބަސް',\n",
       " 'dz': 'ཇོང་ཁ',\n",
       " 'ee': 'eʋegbe',\n",
       " 'egl': 'Emiliàn',\n",
       " 'el': 'Ελληνικά',\n",
       " 'eml': 'emiliàn e rumagnòl',\n",
       " 'en': 'English',\n",
       " 'en-ca': 'Canadian English',\n",
       " 'en-gb': 'British English',\n",
       " 'eo': 'Esperanto',\n",
       " 'es': 'español',\n",
       " 'es-419': 'español de América Latina',\n",
       " 'es-formal': 'español (formal)\\u200e',\n",
       " 'et': 'eesti',\n",
       " 'eu': 'euskara',\n",
       " 'ext': 'estremeñu',\n",
       " 'fa': 'فارسی',\n",
       " 'ff': 'Fulfulde',\n",
       " 'fi': 'suomi',\n",
       " 'fit': 'meänkieli',\n",
       " 'fiu-vro': 'Võro',\n",
       " 'fj': 'Na Vosa Vakaviti',\n",
       " 'fo': 'føroyskt',\n",
       " 'fr': 'français',\n",
       " 'frc': 'français cadien',\n",
       " 'frp': 'arpetan',\n",
       " 'frr': 'Nordfriisk',\n",
       " 'fur': 'furlan',\n",
       " 'fy': 'Frysk',\n",
       " 'ga': 'Gaeilge',\n",
       " 'gag': 'Gagauz',\n",
       " 'gan': '贛語',\n",
       " 'gan-hans': '赣语（简体）\\u200e',\n",
       " 'gan-hant': '贛語（繁體）\\u200e',\n",
       " 'gcr': 'kriyòl gwiyannen',\n",
       " 'gd': 'Gàidhlig',\n",
       " 'gl': 'galego',\n",
       " 'glk': 'گیلکی',\n",
       " 'gn': \"Avañe'ẽ\",\n",
       " 'gom': 'गोंयची कोंकणी / Gõychi Konknni',\n",
       " 'gom-deva': 'गोंयची कोंकणी',\n",
       " 'gom-latn': 'Gõychi Konknni',\n",
       " 'gor': 'Bahasa Hulontalo',\n",
       " 'got': '𐌲𐌿𐍄𐌹𐍃𐌺',\n",
       " 'grc': 'Ἀρχαία ἑλληνικὴ',\n",
       " 'gsw': 'Alemannisch',\n",
       " 'gu': 'ગુજરાતી',\n",
       " 'gv': 'Gaelg',\n",
       " 'ha': 'Hausa',\n",
       " 'hak': '客家語/Hak-kâ-ngî',\n",
       " 'haw': 'Hawaiʻi',\n",
       " 'he': 'עברית',\n",
       " 'hi': 'हिन्दी',\n",
       " 'hif': 'Fiji Hindi',\n",
       " 'hif-latn': 'Fiji Hindi',\n",
       " 'hil': 'Ilonggo',\n",
       " 'ho': 'Hiri Motu',\n",
       " 'hr': 'hrvatski',\n",
       " 'hrx': 'Hunsrik',\n",
       " 'hsb': 'hornjoserbsce',\n",
       " 'ht': 'Kreyòl ayisyen',\n",
       " 'hu': 'magyar',\n",
       " 'hu-formal': 'magyar (formal)\\u200e',\n",
       " 'hy': 'հայերեն',\n",
       " 'hyw': 'Արեւմտահայերէն',\n",
       " 'hz': 'Otsiherero',\n",
       " 'ia': 'interlingua',\n",
       " 'id': 'Bahasa Indonesia',\n",
       " 'ie': 'Interlingue',\n",
       " 'ig': 'Igbo',\n",
       " 'ii': 'ꆇꉙ',\n",
       " 'ik': 'Iñupiak',\n",
       " 'ike-cans': 'ᐃᓄᒃᑎᑐᑦ',\n",
       " 'ike-latn': 'inuktitut',\n",
       " 'ilo': 'Ilokano',\n",
       " 'inh': 'ГӀалгӀай',\n",
       " 'io': 'Ido',\n",
       " 'is': 'íslenska',\n",
       " 'it': 'italiano',\n",
       " 'iu': 'ᐃᓄᒃᑎᑐᑦ/inuktitut',\n",
       " 'ja': '日本語',\n",
       " 'jam': 'Patois',\n",
       " 'jbo': 'la .lojban.',\n",
       " 'jut': 'jysk',\n",
       " 'jv': 'Jawa',\n",
       " 'ka': 'ქართული',\n",
       " 'kaa': 'Qaraqalpaqsha',\n",
       " 'kab': 'Taqbaylit',\n",
       " 'kbd': 'Адыгэбзэ',\n",
       " 'kbd-cyrl': 'Адыгэбзэ',\n",
       " 'kbp': 'Kabɩyɛ',\n",
       " 'kg': 'Kongo',\n",
       " 'khw': 'کھوار',\n",
       " 'ki': 'Gĩkũyũ',\n",
       " 'kiu': 'Kırmancki',\n",
       " 'kj': 'Kwanyama',\n",
       " 'kjp': 'ဖၠုံလိက်',\n",
       " 'kk': 'қазақша',\n",
       " 'kk-arab': 'قازاقشا (تٴوتە)\\u200f',\n",
       " 'kk-cn': 'قازاقشا (جۇنگو)\\u200f',\n",
       " 'kk-cyrl': 'қазақша (кирил)\\u200e',\n",
       " 'kk-kz': 'қазақша (Қазақстан)\\u200e',\n",
       " 'kk-latn': 'qazaqşa (latın)\\u200e',\n",
       " 'kk-tr': 'qazaqşa (Türkïya)\\u200e',\n",
       " 'kl': 'kalaallisut',\n",
       " 'km': 'ភាសាខ្មែរ',\n",
       " 'kn': 'ಕನ್ನಡ',\n",
       " 'ko': '한국어',\n",
       " 'ko-kp': '조선말',\n",
       " 'koi': 'Перем Коми',\n",
       " 'kr': 'Kanuri',\n",
       " 'krc': 'къарачай-малкъар',\n",
       " 'kri': 'Krio',\n",
       " 'krj': 'Kinaray-a',\n",
       " 'krl': 'karjal',\n",
       " 'ks': 'कॉशुर / کٲشُر',\n",
       " 'ks-arab': 'کٲشُر',\n",
       " 'ks-deva': 'कॉशुर',\n",
       " 'ksh': 'Ripoarisch',\n",
       " 'ku': 'kurdî',\n",
       " 'ku-arab': 'كوردي (عەرەبی)\\u200f',\n",
       " 'ku-latn': 'kurdî (latînî)\\u200e',\n",
       " 'kum': 'къумукъ',\n",
       " 'kv': 'коми',\n",
       " 'kw': 'kernowek',\n",
       " 'ky': 'Кыргызча',\n",
       " 'la': 'Latina',\n",
       " 'lad': 'Ladino',\n",
       " 'lb': 'Lëtzebuergesch',\n",
       " 'lbe': 'лакку',\n",
       " 'lez': 'лезги',\n",
       " 'lfn': 'Lingua Franca Nova',\n",
       " 'lg': 'Luganda',\n",
       " 'li': 'Limburgs',\n",
       " 'lij': 'Ligure',\n",
       " 'liv': 'Līvõ kēļ',\n",
       " 'lki': 'لەکی',\n",
       " 'lld': 'Ladin',\n",
       " 'lmo': 'lumbaart',\n",
       " 'ln': 'lingála',\n",
       " 'lo': 'ລາວ',\n",
       " 'loz': 'Silozi',\n",
       " 'lrc': 'لۊری شومالی',\n",
       " 'lt': 'lietuvių',\n",
       " 'ltg': 'latgaļu',\n",
       " 'lus': 'Mizo ţawng',\n",
       " 'luz': 'لئری دوٙمینی',\n",
       " 'lv': 'latviešu',\n",
       " 'lzh': '文言',\n",
       " 'lzz': 'Lazuri',\n",
       " 'mai': 'मैथिली',\n",
       " 'map-bms': 'Basa Banyumasan',\n",
       " 'mdf': 'мокшень',\n",
       " 'mg': 'Malagasy',\n",
       " 'mh': 'Ebon',\n",
       " 'mhr': 'олык марий',\n",
       " 'mi': 'Māori',\n",
       " 'min': 'Minangkabau',\n",
       " 'mk': 'македонски',\n",
       " 'ml': 'മലയാളം',\n",
       " 'mn': 'монгол',\n",
       " 'mni': 'ꯃꯤꯇꯩ ꯂꯣꯟ',\n",
       " 'mnw': 'ဘာသာ မန်',\n",
       " 'mo': 'молдовеняскэ',\n",
       " 'mr': 'मराठी',\n",
       " 'mrj': 'кырык мары',\n",
       " 'ms': 'Bahasa Melayu',\n",
       " 'mt': 'Malti',\n",
       " 'mus': 'Mvskoke',\n",
       " 'mwl': 'Mirandés',\n",
       " 'my': 'မြန်မာဘာသာ',\n",
       " 'myv': 'эрзянь',\n",
       " 'mzn': 'مازِرونی',\n",
       " 'na': 'Dorerin Naoero',\n",
       " 'nah': 'Nāhuatl',\n",
       " 'nan': 'Bân-lâm-gú',\n",
       " 'nap': 'Napulitano',\n",
       " 'nb': 'norsk bokmål',\n",
       " 'nds': 'Plattdüütsch',\n",
       " 'nds-nl': 'Nedersaksies',\n",
       " 'ne': 'नेपाली',\n",
       " 'new': 'नेपाल भाषा',\n",
       " 'ng': 'Oshiwambo',\n",
       " 'niu': 'Niuē',\n",
       " 'nl': 'Nederlands',\n",
       " 'nl-informal': 'Nederlands (informeel)\\u200e',\n",
       " 'nn': 'norsk nynorsk',\n",
       " 'no': 'norsk',\n",
       " 'nov': 'Novial',\n",
       " 'nqo': 'ߒߞߏ',\n",
       " 'nrm': 'Nouormand',\n",
       " 'nso': 'Sesotho sa Leboa',\n",
       " 'nv': 'Diné bizaad',\n",
       " 'ny': 'Chi-Chewa',\n",
       " 'nys': 'Nyunga',\n",
       " 'oc': 'occitan',\n",
       " 'olo': 'Livvinkarjala',\n",
       " 'om': 'Oromoo',\n",
       " 'or': 'ଓଡ଼ିଆ',\n",
       " 'os': 'Ирон',\n",
       " 'pa': 'ਪੰਜਾਬੀ',\n",
       " 'pag': 'Pangasinan',\n",
       " 'pam': 'Kapampangan',\n",
       " 'pap': 'Papiamentu',\n",
       " 'pcd': 'Picard',\n",
       " 'pdc': 'Deitsch',\n",
       " 'pdt': 'Plautdietsch',\n",
       " 'pfl': 'Pälzisch',\n",
       " 'pi': 'पालि',\n",
       " 'pih': 'Norfuk / Pitkern',\n",
       " 'pl': 'polski',\n",
       " 'pms': 'Piemontèis',\n",
       " 'pnb': 'پنجابی',\n",
       " 'pnt': 'Ποντιακά',\n",
       " 'prg': 'Prūsiskan',\n",
       " 'ps': 'پښتو',\n",
       " 'pt': 'português',\n",
       " 'pt-br': 'português do Brasil',\n",
       " 'qu': 'Runa Simi',\n",
       " 'qug': 'Runa shimi',\n",
       " 'rgn': 'Rumagnôl',\n",
       " 'rif': 'Tarifit',\n",
       " 'rm': 'rumantsch',\n",
       " 'rmy': 'romani čhib',\n",
       " 'rn': 'Kirundi',\n",
       " 'ro': 'română',\n",
       " 'roa-rup': 'armãneashti',\n",
       " 'roa-tara': 'tarandíne',\n",
       " 'ru': 'русский',\n",
       " 'rue': 'русиньскый',\n",
       " 'rup': 'armãneashti',\n",
       " 'ruq': 'Vlăheşte',\n",
       " 'ruq-cyrl': 'Влахесте',\n",
       " 'ruq-latn': 'Vlăheşte',\n",
       " 'rw': 'Kinyarwanda',\n",
       " 'sa': 'संस्कृतम्',\n",
       " 'sah': 'саха тыла',\n",
       " 'sat': 'ᱥᱟᱱᱛᱟᱲᱤ',\n",
       " 'sc': 'sardu',\n",
       " 'scn': 'sicilianu',\n",
       " 'sco': 'Scots',\n",
       " 'sd': 'سنڌي',\n",
       " 'sdc': 'Sassaresu',\n",
       " 'sdh': 'کوردی خوارگ',\n",
       " 'se': 'davvisámegiella',\n",
       " 'sei': 'Cmique Itom',\n",
       " 'ses': 'Koyraboro Senni',\n",
       " 'sg': 'Sängö',\n",
       " 'sgs': 'žemaitėška',\n",
       " 'sh': 'srpskohrvatski / српскохрватски',\n",
       " 'shi': 'Tašlḥiyt/ⵜⴰⵛⵍⵃⵉⵜ',\n",
       " 'shi-latn': 'Tašlḥiyt',\n",
       " 'shi-tfng': 'ⵜⴰⵛⵍⵃⵉⵜ',\n",
       " 'shn': 'ၽႃႇသႃႇတႆး ',\n",
       " 'shy-latn': 'tacawit',\n",
       " 'si': 'සිංහල',\n",
       " 'simple': 'Simple English',\n",
       " 'sk': 'slovenčina',\n",
       " 'skr': 'سرائیکی',\n",
       " 'skr-arab': 'سرائیکی',\n",
       " 'sl': 'slovenščina',\n",
       " 'sli': 'Schläsch',\n",
       " 'sm': 'Gagana Samoa',\n",
       " 'sma': 'åarjelsaemien',\n",
       " 'smn': 'anarâškielâ',\n",
       " 'sn': 'chiShona',\n",
       " 'so': 'Soomaaliga',\n",
       " 'sq': 'shqip',\n",
       " 'sr': 'српски / srpski',\n",
       " 'sr-ec': 'српски (ћирилица)\\u200e',\n",
       " 'sr-el': 'srpski (latinica)\\u200e',\n",
       " 'srn': 'Sranantongo',\n",
       " 'ss': 'SiSwati',\n",
       " 'st': 'Sesotho',\n",
       " 'stq': 'Seeltersk',\n",
       " 'sty': 'себертатар',\n",
       " 'su': 'Sunda',\n",
       " 'sv': 'svenska',\n",
       " 'sw': 'Kiswahili',\n",
       " 'szl': 'ślůnski',\n",
       " 'szy': 'Sakizaya',\n",
       " 'ta': 'தமிழ்',\n",
       " 'tay': 'Tayal',\n",
       " 'tcy': 'ತುಳು',\n",
       " 'te': 'తెలుగు',\n",
       " 'tet': 'tetun',\n",
       " 'tg': 'тоҷикӣ',\n",
       " 'tg-cyrl': 'тоҷикӣ',\n",
       " 'tg-latn': 'tojikī',\n",
       " 'th': 'ไทย',\n",
       " 'ti': 'ትግርኛ',\n",
       " 'tk': 'Türkmençe',\n",
       " 'tl': 'Tagalog',\n",
       " 'tly': 'толышә зывон',\n",
       " 'tn': 'Setswana',\n",
       " 'to': 'lea faka-Tonga',\n",
       " 'tpi': 'Tok Pisin',\n",
       " 'tr': 'Türkçe',\n",
       " 'tru': 'Ṫuroyo',\n",
       " 'trv': 'Seediq',\n",
       " 'ts': 'Xitsonga',\n",
       " 'tt': 'татарча/tatarça',\n",
       " 'tt-cyrl': 'татарча',\n",
       " 'tt-latn': 'tatarça',\n",
       " 'tum': 'chiTumbuka',\n",
       " 'tw': 'Twi',\n",
       " 'ty': 'reo tahiti',\n",
       " 'tyv': 'тыва дыл',\n",
       " 'tzm': 'ⵜⴰⵎⴰⵣⵉⵖⵜ',\n",
       " 'udm': 'удмурт',\n",
       " 'ug': 'ئۇيغۇرچە / Uyghurche',\n",
       " 'ug-arab': 'ئۇيغۇرچە',\n",
       " 'ug-latn': 'Uyghurche',\n",
       " 'uk': 'українська',\n",
       " 'ur': 'اردو',\n",
       " 'uz': 'oʻzbekcha/ўзбекча',\n",
       " 'uz-cyrl': 'ўзбекча',\n",
       " 'uz-latn': 'oʻzbekcha',\n",
       " 've': 'Tshivenda',\n",
       " 'vec': 'vèneto',\n",
       " 'vep': 'vepsän kel’',\n",
       " 'vi': 'Tiếng Việt',\n",
       " 'vls': 'West-Vlams',\n",
       " 'vmf': 'Mainfränkisch',\n",
       " 'vo': 'Volapük',\n",
       " 'vot': 'Vaďďa',\n",
       " 'vro': 'Võro',\n",
       " 'wa': 'walon',\n",
       " 'war': 'Winaray',\n",
       " 'wo': 'Wolof',\n",
       " 'wuu': '吴语',\n",
       " 'xal': 'хальмг',\n",
       " 'xh': 'isiXhosa',\n",
       " 'xmf': 'მარგალური',\n",
       " 'xsy': 'saisiyat',\n",
       " 'yi': 'ייִדיש',\n",
       " 'yo': 'Yorùbá',\n",
       " 'yue': '粵語',\n",
       " 'za': 'Vahcuengh',\n",
       " 'zea': 'Zeêuws',\n",
       " 'zgh': 'ⵜⴰⵎⴰⵣⵉⵖⵜ ⵜⴰⵏⴰⵡⴰⵢⵜ',\n",
       " 'zh': '中文',\n",
       " 'zh-classical': '文言',\n",
       " 'zh-cn': '中文（中国大陆）\\u200e',\n",
       " 'zh-hans': '中文（简体）\\u200e',\n",
       " 'zh-hant': '中文（繁體）\\u200e',\n",
       " 'zh-hk': '中文（香港）\\u200e',\n",
       " 'zh-min-nan': 'Bân-lâm-gú',\n",
       " 'zh-mo': '中文（澳門）\\u200e',\n",
       " 'zh-my': '中文（马来西亚）\\u200e',\n",
       " 'zh-sg': '中文（新加坡）\\u200e',\n",
       " 'zh-tw': '中文（台灣）\\u200e',\n",
       " 'zh-yue': '粵語',\n",
       " 'zu': 'isiZulu'}"
      ]
     },
     "execution_count": 3,
     "metadata": {
      "tags": []
     },
     "output_type": "execute_result"
    }
   ],
   "source": [
    "# Get the codes of the languages\n",
    "wikipedia.languages()"
   ]
  },
  {
   "cell_type": "code",
   "execution_count": null,
   "metadata": {
    "colab": {},
    "colab_type": "code",
    "id": "cnAS0Iy3d8HN"
   },
   "outputs": [],
   "source": [
    "# This function generates sentences on random topics using Wikipedia module in the given languages\n",
    "def generate_data(languages_code, each_sample):\n",
    "    X = []\n",
    "    Y = []\n",
    "    print('Generating data for the following languages: ', languages_code)\n",
    "\n",
    "    for language in languages_code:\n",
    "        # Set the language\n",
    "        wikipedia.set_lang(language)\n",
    "\n",
    "        # Generate the sentences\n",
    "        for i in range(0, each_sample):\n",
    "            try:\n",
    "                # print(flag, language, each_sample, i, [wikipedia.page(wikipedia.random(1)).summary])\n",
    "                X.append([wikipedia.summary(wikipedia.random(1), sentences=1)])\n",
    "\n",
    "                if language == 'it':\n",
    "                    Y.append('Italian')\n",
    "                elif language == 'fr':\n",
    "                    Y.append('French')\n",
    "                elif language == 'en':\n",
    "                    Y.append('English')\n",
    "                elif language == 'es':\n",
    "                    Y.append('Spanish')\n",
    "\n",
    "            except wikipedia.exceptions.DisambiguationError as e:\n",
    "                e = 'Ignore'\n",
    "\n",
    "        print('Language ', wikipedia.languages()[language], ' (', language, ') completed.')\n",
    "\n",
    "    X = np.array(X).reshape(-1, 1)\n",
    "    Y = np.array(Y).reshape(-1, 1)\n",
    "    X = np.append(X, Y, axis = 1)\n",
    "    # print(X.shape)\n",
    "\n",
    "    # Converting the data into a dataframe\n",
    "    df = pd.DataFrame(X, columns = ['Sentences', 'Language'])\n",
    "\n",
    "    # Saving this data into a '.csv' file in the current directory\n",
    "    df.to_csv('all_data.csv', index = False)\n",
    "    \n",
    "    print('The data is generated.')"
   ]
  },
  {
   "cell_type": "markdown",
   "metadata": {
    "colab_type": "text",
    "id": "imeM178L6fcE"
   },
   "source": [
    "You may choose different and also many more languages as you wish to do.\n",
    "\n",
    "Just get the code of the language from above and and change the 'languages_code' variable in below cell."
   ]
  },
  {
   "cell_type": "code",
   "execution_count": null,
   "metadata": {
    "colab": {
     "base_uri": "https://localhost:8080/",
     "height": 119
    },
    "colab_type": "code",
    "id": "9TbRmGIOnMtb",
    "outputId": "ef7a3146-a72e-4924-f927-9608127c1315"
   },
   "outputs": [
    {
     "name": "stdout",
     "output_type": "stream",
     "text": [
      "Generating data for the following languages:  ['it', 'fr', 'en', 'es']\n",
      "Language  italiano  ( it ) completed.\n",
      "Language  français  ( fr ) completed.\n",
      "Language  English  ( en ) completed.\n",
      "Language  español  ( es ) completed.\n",
      "The data is generated.\n"
     ]
    }
   ],
   "source": [
    "languages_code = ['it', 'fr', 'en', 'es']\n",
    "\n",
    "generate_data(languages_code, 1000)"
   ]
  },
  {
   "cell_type": "markdown",
   "metadata": {
    "colab_type": "text",
    "id": "gXAqRGOaYwwS"
   },
   "source": [
    "# Dataset Pre-processing"
   ]
  },
  {
   "cell_type": "markdown",
   "metadata": {
    "colab_type": "text",
    "id": "f0gHtxEXY8Vw"
   },
   "source": [
    "## Loading the dataset"
   ]
  },
  {
   "cell_type": "code",
   "execution_count": 3,
   "metadata": {
    "colab": {
     "base_uri": "https://localhost:8080/",
     "height": 204
    },
    "colab_type": "code",
    "id": "cSAvMePpkqpx",
    "outputId": "281d4866-f28e-48a1-af98-4ab6eb5f2943"
   },
   "outputs": [
    {
     "data": {
      "text/html": [
       "<div>\n",
       "<style scoped>\n",
       "    .dataframe tbody tr th:only-of-type {\n",
       "        vertical-align: middle;\n",
       "    }\n",
       "\n",
       "    .dataframe tbody tr th {\n",
       "        vertical-align: top;\n",
       "    }\n",
       "\n",
       "    .dataframe thead th {\n",
       "        text-align: right;\n",
       "    }\n",
       "</style>\n",
       "<table border=\"1\" class=\"dataframe\">\n",
       "  <thead>\n",
       "    <tr style=\"text-align: right;\">\n",
       "      <th></th>\n",
       "      <th>Sentence</th>\n",
       "      <th>Language</th>\n",
       "    </tr>\n",
       "  </thead>\n",
       "  <tbody>\n",
       "    <tr>\n",
       "      <th>3628</th>\n",
       "      <td>El Premio internacional de novela Â«Emilio Ala...</td>\n",
       "      <td>Spanish</td>\n",
       "    </tr>\n",
       "    <tr>\n",
       "      <th>3629</th>\n",
       "      <td>La mujer mÃ¡s fea del mundo es una pelÃ­cula e...</td>\n",
       "      <td>Spanish</td>\n",
       "    </tr>\n",
       "    <tr>\n",
       "      <th>3630</th>\n",
       "      <td>Bacuag, tambiÃ©n conocido como  Bacnag, es un ...</td>\n",
       "      <td>Spanish</td>\n",
       "    </tr>\n",
       "    <tr>\n",
       "      <th>3631</th>\n",
       "      <td>Violent Femmes es una banda de rock alternativ...</td>\n",
       "      <td>Spanish</td>\n",
       "    </tr>\n",
       "    <tr>\n",
       "      <th>3632</th>\n",
       "      <td>James Guthrie (Grenock, Escocia,10 de junio de...</td>\n",
       "      <td>Spanish</td>\n",
       "    </tr>\n",
       "  </tbody>\n",
       "</table>\n",
       "</div>"
      ],
      "text/plain": [
       "                                               Sentence Language\n",
       "3628  El Premio internacional de novela Â«Emilio Ala...  Spanish\n",
       "3629  La mujer mÃ¡s fea del mundo es una pelÃ­cula e...  Spanish\n",
       "3630  Bacuag, tambiÃ©n conocido como  Bacnag, es un ...  Spanish\n",
       "3631  Violent Femmes es una banda de rock alternativ...  Spanish\n",
       "3632  James Guthrie (Grenock, Escocia,10 de junio de...  Spanish"
      ]
     },
     "execution_count": 3,
     "metadata": {
      "tags": []
     },
     "output_type": "execute_result"
    }
   ],
   "source": [
    "# Load the created dataset\n",
    "df = pd.read_csv('all_data.csv', encoding='latin-1')\n",
    "\n",
    "# Print last 5 lines of dataset\n",
    "df.tail()"
   ]
  },
  {
   "cell_type": "markdown",
   "metadata": {
    "colab_type": "text",
    "id": "iqXe2q5VizLs"
   },
   "source": [
    "## Sentence Pre-processing"
   ]
  },
  {
   "cell_type": "code",
   "execution_count": 4,
   "metadata": {
    "colab": {
     "base_uri": "https://localhost:8080/",
     "height": 187
    },
    "colab_type": "code",
    "id": "pQ_oU6O9EBNC",
    "outputId": "49df8124-9e6a-461f-f0bf-16d6bf1a350e"
   },
   "outputs": [
    {
     "name": "stdout",
     "output_type": "stream",
     "text": [
      "Sample processed sentences: \n",
      " 0       jean beauverie (fontaines-sur-saã´ne, 18 febbr...\n",
      "500     questa voce raccoglie le informazioni riguarda...\n",
      "1000    hiram bingham iv (17 juillet 1903-12 janvier 1...\n",
      "1500    pollyanna (titre original : pollyanna) est un ...\n",
      "2000    cryptothallus mirabilis is a species of liverw...\n",
      "2500    a colostomy is an opening (stoma) in the large...\n",
      "3000    paullinia brenesii, es una especie de planta t...\n",
      "3500    las islas salomã³n estuvieron representadas en...\n",
      "Name: Processed_Sentence, dtype: object\n"
     ]
    }
   ],
   "source": [
    "# Converting all letters to lowercase and then removing unwanted strings\n",
    "df['Processed_Sentence'] = df['Sentence'].str.lower().replace('[^\\w\\s]','')\n",
    "df['Processed_Sentence'] = df['Processed_Sentence'].fillna('fillna')\n",
    "\n",
    "# Print few of the processed sentences\n",
    "print('Sample processed sentences: \\n', df['Processed_Sentence'][::500])"
   ]
  },
  {
   "cell_type": "markdown",
   "metadata": {
    "colab_type": "text",
    "id": "85XJRQsQaPTe"
   },
   "source": [
    "Now we will tokenize the words using 'Tokenizer' from Tensorflow module."
   ]
  },
  {
   "cell_type": "code",
   "execution_count": 5,
   "metadata": {
    "colab": {
     "base_uri": "https://localhost:8080/",
     "height": 34
    },
    "colab_type": "code",
    "id": "3sC44TxrYHYV",
    "outputId": "9f6f3f98-4fa1-4e6f-d352-ffc9375f826a"
   },
   "outputs": [
    {
     "name": "stdout",
     "output_type": "stream",
     "text": [
      "Total vocab size:  49314\n"
     ]
    }
   ],
   "source": [
    "# Choose the top 5000 words from the vocabulary\n",
    "top_k = 5000\n",
    "\n",
    "# Create a 'Toknizer' object\n",
    "tokenizer = tf.keras.preprocessing.text.Tokenizer(num_words = top_k, oov_token = \"<unk>\")\n",
    "# Fit the tokenizer on processed sentences\n",
    "tokenizer.fit_on_texts(list(df['Processed_Sentence']))\n",
    "\n",
    "vocab_size = len(tokenizer.word_index) + 1\n",
    "print('Total vocab size: ', vocab_size)"
   ]
  },
  {
   "cell_type": "markdown",
   "metadata": {
    "colab_type": "text",
    "id": "73pbpIjFa0f0"
   },
   "source": [
    "Now, we will pad (post-padding) all the sentences till the given maximum length."
   ]
  },
  {
   "cell_type": "code",
   "execution_count": 6,
   "metadata": {
    "colab": {
     "base_uri": "https://localhost:8080/",
     "height": 34
    },
    "colab_type": "code",
    "id": "ZbAGTdZEedpE",
    "outputId": "929e9dd7-f800-4fd3-8d7e-8d1026039203"
   },
   "outputs": [
    {
     "name": "stdout",
     "output_type": "stream",
     "text": [
      "Shape of sentences data:  (3633, 500)\n"
     ]
    }
   ],
   "source": [
    "# Choose the maximum length of sentence to keep\n",
    "max_length = 500\n",
    "\n",
    "# Get all tokenized sentences\n",
    "all_sentences = tokenizer.texts_to_sequences(df['Processed_Sentence'])\n",
    "# Pad the tokenized sentences\n",
    "all_sentences = tf.keras.preprocessing.sequence.pad_sequences(all_sentences, padding='post', maxlen = max_length)\n",
    "\n",
    "print('Shape of sentences data: ', all_sentences.shape)"
   ]
  },
  {
   "cell_type": "markdown",
   "metadata": {
    "colab_type": "text",
    "id": "KCPUZqN3i5UJ"
   },
   "source": [
    "## Labels Pre-processing"
   ]
  },
  {
   "cell_type": "code",
   "execution_count": 7,
   "metadata": {
    "colab": {
     "base_uri": "https://localhost:8080/",
     "height": 34
    },
    "colab_type": "code",
    "id": "MBmFbfxDvHRI",
    "outputId": "782ff8c0-ac20-4434-8baf-f4911f4bb8be"
   },
   "outputs": [
    {
     "name": "stdout",
     "output_type": "stream",
     "text": [
      "Total dataset:  3633\n"
     ]
    }
   ],
   "source": [
    "# Get the labels from the dataset\n",
    "Y = df['Language']\n",
    "\n",
    "print('Total dataset: ', len(Y))"
   ]
  },
  {
   "cell_type": "markdown",
   "metadata": {
    "colab_type": "text",
    "id": "EyE092_8b9u7"
   },
   "source": [
    "Now we will encode our labels (English, Italian, ...) into numeric data (0, 1, ...) using 'LabelEncoder' from Scikit-learn module."
   ]
  },
  {
   "cell_type": "code",
   "execution_count": 8,
   "metadata": {
    "colab": {
     "base_uri": "https://localhost:8080/",
     "height": 51
    },
    "colab_type": "code",
    "id": "hFwfOt43zgDY",
    "outputId": "6fe3748f-8b5b-4537-e021-7d47e5b80a68"
   },
   "outputs": [
    {
     "name": "stdout",
     "output_type": "stream",
     "text": [
      "Sample labels: \n",
      " [2 2 1 1 0 0 3 3]\n"
     ]
    }
   ],
   "source": [
    "# Create encoder object\n",
    "encoder = preprocessing.LabelEncoder()\n",
    "# Fit the encoder on our labels\n",
    "encoder.fit(Y)\n",
    "\n",
    "# Get the encoded labels\n",
    "Y = encoder.transform(Y)\n",
    "\n",
    "print('Sample labels: \\n', Y[::500])"
   ]
  },
  {
   "cell_type": "markdown",
   "metadata": {
    "colab_type": "text",
    "id": "5ZxP8B4Fdiv6"
   },
   "source": [
    "Now, we will one-hot encode our labels using Tensorflow module."
   ]
  },
  {
   "cell_type": "code",
   "execution_count": 9,
   "metadata": {
    "colab": {
     "base_uri": "https://localhost:8080/",
     "height": 204
    },
    "colab_type": "code",
    "id": "POvWoUEv8WbG",
    "outputId": "61020266-2791-4bef-beb5-1420098d6a1b"
   },
   "outputs": [
    {
     "name": "stdout",
     "output_type": "stream",
     "text": [
      "Sample labels: \n",
      " [[0. 0. 1. 0.]\n",
      " [0. 0. 1. 0.]\n",
      " [0. 1. 0. 0.]\n",
      " [0. 1. 0. 0.]\n",
      " [1. 0. 0. 0.]\n",
      " [1. 0. 0. 0.]\n",
      " [0. 0. 0. 1.]\n",
      " [0. 0. 0. 1.]]\n",
      "\n",
      "Shape of labels data:  (3633, 4)\n"
     ]
    }
   ],
   "source": [
    "# Get the number of unique labels\n",
    "num_classes = len(np.unique(Y))\n",
    "\n",
    "# Convert the labels into one-hot vector\n",
    "Y = tf.keras.utils.to_categorical(Y, num_classes = num_classes)\n",
    "print('Sample labels: \\n', Y[::500])\n",
    "\n",
    "print('\\nShape of labels data: ', Y.shape)"
   ]
  },
  {
   "cell_type": "code",
   "execution_count": 10,
   "metadata": {
    "colab": {
     "base_uri": "https://localhost:8080/",
     "height": 119
    },
    "colab_type": "code",
    "id": "lHm38RnUr7w9",
    "outputId": "b6f64a69-90a0-4ef5-bcde-67630fa41e2a"
   },
   "outputs": [
    {
     "name": "stdout",
     "output_type": "stream",
     "text": [
      "Labels mapping is as follows: \n",
      "\n",
      "English  >>  0\n",
      "French  >>  1\n",
      "Italian  >>  2\n",
      "Spanish  >>  3\n"
     ]
    }
   ],
   "source": [
    "# Check the labels mapping\n",
    "print('Labels mapping is as follows: \\n')\n",
    "for i in range(num_classes):\n",
    "    print(encoder.classes_[i], ' >> ', i)"
   ]
  },
  {
   "cell_type": "markdown",
   "metadata": {
    "colab_type": "text",
    "id": "SCrVtRqVeA9c"
   },
   "source": [
    "## Splitting the dataset"
   ]
  },
  {
   "cell_type": "markdown",
   "metadata": {
    "colab_type": "text",
    "id": "zP1Vt1hzeH5v"
   },
   "source": [
    "We will split the dataset into training and testing set using Scikit-learn.\n",
    "\n",
    "Validation set will be created while training the model."
   ]
  },
  {
   "cell_type": "code",
   "execution_count": 11,
   "metadata": {
    "colab": {
     "base_uri": "https://localhost:8080/",
     "height": 85
    },
    "colab_type": "code",
    "id": "HzKnSYWvjHNU",
    "outputId": "262b1b7e-c698-48f8-f421-c497deaca67d"
   },
   "outputs": [
    {
     "name": "stdout",
     "output_type": "stream",
     "text": [
      "X_train shape:  (3269, 500)\n",
      "Y_train shape:  (3269, 4)\n",
      "X_test shape:  (364, 500)\n",
      "Y_test shape:  (364, 4)\n"
     ]
    }
   ],
   "source": [
    "X_train, X_test, Y_train, Y_test = model_selection.train_test_split(all_sentences, Y, test_size = 0.1)\n",
    "\n",
    "print('X_train shape: ', X_train.shape)\n",
    "print('Y_train shape: ', Y_train.shape)\n",
    "print('X_test shape: ', X_test.shape)\n",
    "print('Y_test shape: ', Y_test.shape)"
   ]
  },
  {
   "cell_type": "markdown",
   "metadata": {
    "colab_type": "text",
    "id": "jNQ1yIN6klda"
   },
   "source": [
    "# Model"
   ]
  },
  {
   "cell_type": "markdown",
   "metadata": {
    "colab_type": "text",
    "id": "HCeoFq-1fVdn"
   },
   "source": [
    "## Model Configurations"
   ]
  },
  {
   "cell_type": "markdown",
   "metadata": {
    "colab_type": "text",
    "id": "EyTHVg8PfzxR"
   },
   "source": [
    "Setting the hyper-parameters"
   ]
  },
  {
   "cell_type": "code",
   "execution_count": 12,
   "metadata": {
    "colab": {},
    "colab_type": "code",
    "id": "Igy5fntCkj1X"
   },
   "outputs": [],
   "source": [
    "# Feel free to change these parameters according to your system's configuration\n",
    "batch_size = 128\n",
    "embedding_dim = 128\n",
    "\n",
    "# Setting this to a higher value (considering the data) as we will be using Early-Stopping method\n",
    "max_epochs = 20\n",
    "\n",
    "# The following parameters are same as used before\n",
    "vocab_size = vocab_size\n",
    "num_classes = num_classes"
   ]
  },
  {
   "cell_type": "code",
   "execution_count": 13,
   "metadata": {
    "colab": {},
    "colab_type": "code",
    "id": "psPdG8LNn4GD"
   },
   "outputs": [],
   "source": [
    "# This is used to plot performance graphs of our models\n",
    "def performance(histories):\n",
    "    plt.figure(figsize = (15, 10))\n",
    "    # Plot Loss\n",
    "    plt.subplot(2,2,1)\n",
    "    plt.title('Cross Entropy Loss')\n",
    "    plt.plot(histories.history['loss'], color = 'blue', label = 'train')\n",
    "    plt.plot(histories.history['val_loss'], color = 'red', label = 'test')\n",
    "    # Plot Accuracy\n",
    "    plt.subplot(2,2,2)\n",
    "    plt.title('Classification Accuracy')\n",
    "    plt.plot(histories.history['accuracy'], color = 'blue', label = 'train')\n",
    "    plt.plot(histories.history['val_accuracy'], color = 'red', label = 'test')\n",
    "    # Show the plot\n",
    "    plt.show()"
   ]
  },
  {
   "cell_type": "markdown",
   "metadata": {
    "colab_type": "text",
    "id": "xzyiVYBzgL8n"
   },
   "source": [
    "## Create model"
   ]
  },
  {
   "cell_type": "code",
   "execution_count": 14,
   "metadata": {
    "colab": {
     "base_uri": "https://localhost:8080/",
     "height": 391
    },
    "colab_type": "code",
    "id": "48Bo0H3Yl3Os",
    "outputId": "c5962765-23b5-49b9-c7c4-a22078a72b05"
   },
   "outputs": [
    {
     "name": "stdout",
     "output_type": "stream",
     "text": [
      "Model: \"sequential\"\n",
      "_________________________________________________________________\n",
      "Layer (type)                 Output Shape              Param #   \n",
      "=================================================================\n",
      "embedding (Embedding)        (None, 500, 128)          6312192   \n",
      "_________________________________________________________________\n",
      "flatten (Flatten)            (None, 64000)             0         \n",
      "_________________________________________________________________\n",
      "dense (Dense)                (None, 256)               16384256  \n",
      "_________________________________________________________________\n",
      "dropout (Dropout)            (None, 256)               0         \n",
      "_________________________________________________________________\n",
      "dense_1 (Dense)              (None, 256)               65792     \n",
      "_________________________________________________________________\n",
      "dropout_1 (Dropout)          (None, 256)               0         \n",
      "_________________________________________________________________\n",
      "dense_2 (Dense)              (None, 4)                 1028      \n",
      "=================================================================\n",
      "Total params: 22,763,268\n",
      "Trainable params: 22,763,268\n",
      "Non-trainable params: 0\n",
      "_________________________________________________________________\n"
     ]
    }
   ],
   "source": [
    "# Creating a model\n",
    "\n",
    "model = tf.keras.models.Sequential()\n",
    "model.add(tf.keras.layers.Embedding(input_dim = vocab_size, output_dim = embedding_dim, input_length = max_length))\n",
    "model.add(tf.keras.layers.Flatten())\n",
    "model.add(tf.keras.layers.Dense(256, activation = 'relu'))\n",
    "model.add(tf.keras.layers.Dropout(0.2))\n",
    "model.add(tf.keras.layers.Dense(256, activation = 'relu'))\n",
    "model.add(tf.keras.layers.Dropout(0.2))\n",
    "model.add(tf.keras.layers.Dense(num_classes, activation = 'softmax'))\n",
    "\n",
    "# Compiling the model\n",
    "model.compile(optimizer = 'Adam', loss = 'categorical_crossentropy', metrics = ['accuracy'])\n",
    "\n",
    "# Summarize the model\n",
    "model.summary()"
   ]
  },
  {
   "cell_type": "markdown",
   "metadata": {
    "colab_type": "text",
    "id": "Vf6WpY4hgTgh"
   },
   "source": [
    "## Training of model"
   ]
  },
  {
   "cell_type": "markdown",
   "metadata": {
    "colab_type": "text",
    "id": "w2azB6ErgXXj"
   },
   "source": [
    "We will create 3 callbacks:\n",
    "\n",
    "\n",
    "1.   **Model Checkpoint**\n",
    "    -    To save the best model.\n",
    "2.   **Early Stopping**\n",
    "    -    To stop the training when validation accuracy starts increasing.\n",
    "3.   **Reduce Learning rate on Plateau**\n",
    "    -    To decrease the learning rate when validation loss stops decreasing.\n",
    "\n"
   ]
  },
  {
   "cell_type": "code",
   "execution_count": 15,
   "metadata": {
    "colab": {},
    "colab_type": "code",
    "id": "tkBwfs_VoURU"
   },
   "outputs": [],
   "source": [
    "callbacks = [tf.keras.callbacks.ModelCheckpoint('model.h5', save_best_only = True),\n",
    "             tf.keras.callbacks.EarlyStopping(monitor = 'val_accuracy', min_delta = 0.00001, patience = 5,\n",
    "                                              verbose = 1, mode = 'auto'),\n",
    "             tf.keras.callbacks.ReduceLROnPlateau(monitor = 'val_loss', factor = 0.1, patience = 2,\n",
    "                                                  verbose = 1, mode = 'auto', min_lr = 0.000001)]"
   ]
  },
  {
   "cell_type": "markdown",
   "metadata": {
    "colab_type": "text",
    "id": "DwsGg3GIghTr"
   },
   "source": [
    "Start the training."
   ]
  },
  {
   "cell_type": "code",
   "execution_count": 16,
   "metadata": {
    "colab": {
     "base_uri": "https://localhost:8080/",
     "height": 620
    },
    "colab_type": "code",
    "id": "Z4DzpKEqnHd5",
    "outputId": "23664564-51ac-4b06-efe6-21497b903b2c"
   },
   "outputs": [
    {
     "name": "stdout",
     "output_type": "stream",
     "text": [
      "Epoch 1/20\n",
      "23/23 [==============================] - 11s 477ms/step - loss: 1.4880 - accuracy: 0.2991 - val_loss: 1.2641 - val_accuracy: 0.5505\n",
      "Epoch 2/20\n",
      "23/23 [==============================] - 11s 468ms/step - loss: 0.8240 - accuracy: 0.7420 - val_loss: 0.2083 - val_accuracy: 0.9755\n",
      "Epoch 3/20\n",
      "23/23 [==============================] - 11s 466ms/step - loss: 0.0887 - accuracy: 0.9806 - val_loss: 0.0181 - val_accuracy: 0.9969\n",
      "Epoch 4/20\n",
      "23/23 [==============================] - 11s 465ms/step - loss: 0.0145 - accuracy: 0.9969 - val_loss: 0.0095 - val_accuracy: 0.9969\n",
      "Epoch 5/20\n",
      "23/23 [==============================] - 13s 582ms/step - loss: 0.0099 - accuracy: 0.9973 - val_loss: 0.0109 - val_accuracy: 0.9939\n",
      "Epoch 6/20\n",
      "23/23 [==============================] - 11s 465ms/step - loss: 0.0080 - accuracy: 0.9976 - val_loss: 0.0074 - val_accuracy: 0.9969\n",
      "Epoch 7/20\n",
      "23/23 [==============================] - 10s 440ms/step - loss: 0.0118 - accuracy: 0.9973 - val_loss: 0.0078 - val_accuracy: 0.9969\n",
      "Epoch 8/20\n",
      "23/23 [==============================] - 11s 460ms/step - loss: 0.0096 - accuracy: 0.9969 - val_loss: 0.0063 - val_accuracy: 0.9969\n",
      "Epoch 00008: early stopping\n"
     ]
    },
    {
     "data": {
      "image/png": "[encoded data removed]",
      "text/plain": [
       "<Figure size 1080x720 with 2 Axes>"
      ]
     },
     "metadata": {
      "needs_background": "light",
      "tags": []
     },
     "output_type": "display_data"
    }
   ],
   "source": [
    "history = model.fit(np.array(X_train), np.array(Y_train),\n",
    "                    batch_size = batch_size,\n",
    "                    validation_split = 0.1,\n",
    "                    callbacks = callbacks,\n",
    "                    epochs = max_epochs)\n",
    "\n",
    "performance(history)"
   ]
  },
  {
   "cell_type": "markdown",
   "metadata": {
    "colab_type": "text",
    "id": "QVck3U6okiNJ"
   },
   "source": [
    "We have got very high training and validation accuracies. That's great.\n",
    "\n",
    "We also don't have any overfitting. The high validation accuracy compared to training accuracy in the starting epochs is due to Dropout layers.\n"
   ]
  },
  {
   "cell_type": "markdown",
   "metadata": {
    "colab_type": "text",
    "id": "lpr2fHA5grjL"
   },
   "source": [
    "## Testing of model"
   ]
  },
  {
   "cell_type": "markdown",
   "metadata": {
    "colab_type": "text",
    "id": "ZNs0JrWUl1uv"
   },
   "source": [
    "### Evaluation"
   ]
  },
  {
   "cell_type": "code",
   "execution_count": 17,
   "metadata": {
    "colab": {
     "base_uri": "https://localhost:8080/",
     "height": 51
    },
    "colab_type": "code",
    "id": "6fMZIorFoWK3",
    "outputId": "c27a0a66-fca9-4aae-da07-48462b0c7625"
   },
   "outputs": [
    {
     "name": "stdout",
     "output_type": "stream",
     "text": [
      "12/12 [==============================] - 0s 25ms/step - loss: 0.0025 - accuracy: 1.0000\n"
     ]
    },
    {
     "data": {
      "text/plain": [
       "[0.0025378093123435974, 1.0]"
      ]
     },
     "execution_count": 17,
     "metadata": {
      "tags": []
     },
     "output_type": "execute_result"
    }
   ],
   "source": [
    "# Let us evaluate the model on test set\n",
    "model.evaluate(np.array(X_test), np.array(Y_test))"
   ]
  },
  {
   "cell_type": "markdown",
   "metadata": {
    "colab_type": "text",
    "id": "tv8S0yEpg8To"
   },
   "source": [
    "Seems like we have a perfect model.\n",
    "\n",
    "Let us evaluate using other parameters too."
   ]
  },
  {
   "cell_type": "markdown",
   "metadata": {
    "colab_type": "text",
    "id": "L6C2Uyzel6Jj"
   },
   "source": [
    "### Classification report"
   ]
  },
  {
   "cell_type": "code",
   "execution_count": 19,
   "metadata": {
    "colab": {
     "base_uri": "https://localhost:8080/",
     "height": 272
    },
    "colab_type": "code",
    "id": "QoPYVjeioWkq",
    "outputId": "bdc0fcc9-1ed5-46f8-f5f0-0fe0e60aa637"
   },
   "outputs": [
    {
     "name": "stdout",
     "output_type": "stream",
     "text": [
      "Test accuracy = 1.0 \n",
      "\n",
      "\n",
      "              precision    recall  f1-score   support\n",
      "\n",
      "     English     1.0000    1.0000    1.0000        63\n",
      "      French     1.0000    1.0000    1.0000        92\n",
      "     Italian     1.0000    1.0000    1.0000       115\n",
      "     Spanish     1.0000    1.0000    1.0000        94\n",
      "\n",
      "   micro avg     1.0000    1.0000    1.0000       364\n",
      "   macro avg     1.0000    1.0000    1.0000       364\n",
      "weighted avg     1.0000    1.0000    1.0000       364\n",
      " samples avg     1.0000    1.0000    1.0000       364\n",
      "\n"
     ]
    }
   ],
   "source": [
    "# Predict and Evaluate\n",
    "Y_predict = tf.keras.utils.to_categorical(np.argmax(model.predict(X_test), axis = 1), num_classes = num_classes).astype('int32')\n",
    "accuracy = np.sum(Y_predict == Y_test) / np.size(Y_predict)\n",
    "print(\"Test accuracy = {}\".format(accuracy), '\\n\\n')\n",
    "\n",
    "# Classification report\n",
    "print(metrics.classification_report(Y_test, Y_predict, target_names = encoder.classes_, digits = 4))\n"
   ]
  },
  {
   "cell_type": "markdown",
   "metadata": {
    "colab_type": "text",
    "id": "2V_vUL7DhLLk"
   },
   "source": [
    "Plotting a confusion matrix of evaluation."
   ]
  },
  {
   "cell_type": "markdown",
   "metadata": {
    "colab_type": "text",
    "id": "cCyfHlPYmAEN"
   },
   "source": [
    "### Confusion matrix"
   ]
  },
  {
   "cell_type": "code",
   "execution_count": 20,
   "metadata": {
    "colab": {
     "base_uri": "https://localhost:8080/",
     "height": 465
    },
    "colab_type": "code",
    "id": "2dLK5fnioWqG",
    "outputId": "34224eee-44cf-47a8-d6a6-1f01a08374d9"
   },
   "outputs": [
    {
     "data": {
      "image/png": "[encoded data removed]",
      "text/plain": [
       "<Figure size 432x432 with 2 Axes>"
      ]
     },
     "metadata": {
      "needs_background": "light",
      "tags": []
     },
     "output_type": "display_data"
    },
    {
     "name": "stdout",
     "output_type": "stream",
     "text": [
      "Confusion matrix values: \n",
      "\n"
     ]
    },
    {
     "data": {
      "text/plain": [
       "array([[ 63,   0,   0,   0],\n",
       "       [  0,  92,   0,   0],\n",
       "       [  0,   0, 115,   0],\n",
       "       [  0,   0,   0,  94]])"
      ]
     },
     "execution_count": 20,
     "metadata": {
      "tags": []
     },
     "output_type": "execute_result"
    }
   ],
   "source": [
    "# Plot confusion matrix\n",
    "cm = metrics.confusion_matrix(Y_predict.argmax(axis = 1), Y_test.argmax(axis = 1))\n",
    "plt.figure(figsize = (6, 6))\n",
    "plt.imshow(cm, cmap=plt.cm.Blues)\n",
    "plt.xlabel(\"Predicted labels\")\n",
    "plt.ylabel(\"True labels\")\n",
    "plt.xticks([], [])\n",
    "plt.yticks([], [])\n",
    "plt.title('Confusion matrix ')\n",
    "plt.colorbar()\n",
    "plt.show()\n",
    "\n",
    "print('Confusion matrix values: \\n')\n",
    "cm"
   ]
  },
  {
   "cell_type": "markdown",
   "metadata": {
    "colab_type": "text",
    "id": "89feRYDS0B-p"
   },
   "source": [
    "# Saving the model"
   ]
  },
  {
   "cell_type": "code",
   "execution_count": 21,
   "metadata": {
    "colab": {},
    "colab_type": "code",
    "id": "oGJbLZ4Q0b2V"
   },
   "outputs": [],
   "source": [
    "# We will save the tokenizer so that we do not have to generate it again \n",
    "with open('tokenizer.pkl', 'wb') as handle:\n",
    "    pickle.dump(tokenizer, handle, protocol = pickle.HIGHEST_PROTOCOL)\n",
    "\n",
    "# We will also save other necessary parameters\n",
    "all_param = [max_length, encoder.classes_]\n",
    "with open('all_param.pkl', 'wb') as p:\n",
    "    pickle.dump(all_param, p, protocol = pickle.HIGHEST_PROTOCOL)"
   ]
  },
  {
   "cell_type": "code",
   "execution_count": 22,
   "metadata": {
    "colab": {},
    "colab_type": "code",
    "id": "rmxQL2vY0Bc-"
   },
   "outputs": [],
   "source": [
    "# We have already saved our model during the callbacks\n",
    "# Otherwise, we could also save it using this code\n",
    "model.save('model.h5')"
   ]
  },
  {
   "cell_type": "markdown",
   "metadata": {
    "colab_type": "text",
    "id": "KWFXRecqzKcd"
   },
   "source": [
    "# Predict new sentences"
   ]
  },
  {
   "cell_type": "markdown",
   "metadata": {
    "colab_type": "text",
    "id": "nwmsRIRGhYuK"
   },
   "source": [
    "Let us see how our model works on real worls new random examples."
   ]
  },
  {
   "cell_type": "code",
   "execution_count": 53,
   "metadata": {
    "colab": {},
    "colab_type": "code",
    "id": "K1P8LyGoaPUv"
   },
   "outputs": [],
   "source": [
    "# Run this cell to avoid printing Tensorflow warning of tr-tracing same graph multiple times\n",
    "tf.compat.v1.logging.set_verbosity(tf.compat.v1.logging.ERROR)\n",
    "os.environ['TF_CPP_MIN_LOG_LEVEL'] = '3'"
   ]
  },
  {
   "cell_type": "code",
   "execution_count": 54,
   "metadata": {
    "colab": {},
    "colab_type": "code",
    "id": "pb7nnXuczHKn"
   },
   "outputs": [],
   "source": [
    "# This function is used to predict our model on given sentences\n",
    "def predict_new(sentences):\n",
    "\n",
    "    # Loading the text Tokenizer\n",
    "    with open('tokenizer.pkl', 'rb') as handle:\n",
    "        my_tokenizer = pickle.load(handle)\n",
    "    \n",
    "    # Loading other necessary parameters\n",
    "    with open('all_param.pkl', 'rb') as p:\n",
    "        my_all_param = pickle.load(p)\n",
    "    my_max_length, my_classes = my_all_param\n",
    "\n",
    "    # Loading the model\n",
    "    my_model = tf.keras.models.load_model('model.h5')\n",
    "\n",
    "    # Pre-processing the sentences\n",
    "    my_df = pd.DataFrame(sentences, columns = ['Sentence'])\n",
    "    my_df['Processed_Sentence'] = my_df['Sentence'].str.lower().replace('[^\\w\\s]','')\n",
    "    my_df['Processed_Sentence'] = my_df['Processed_Sentence'].fillna('fillna')\n",
    "\n",
    "    # Tokenizing and passing the sentences\n",
    "    my_sentences = my_tokenizer.texts_to_sequences(my_df['Processed_Sentence'])\n",
    "    my_sentences = tf.keras.preprocessing.sequence.pad_sequences(my_sentences, padding='post', maxlen = my_max_length)\n",
    "\n",
    "    # Getting the predictions\n",
    "    my_prediction = my_model.predict(my_sentences)\n",
    "    # Getting the classes of predictions\n",
    "    my_pred_class = my_classes[np.argmax(my_prediction, axis = 1)]\n",
    "\n",
    "    return my_pred_class, my_prediction"
   ]
  },
  {
   "cell_type": "code",
   "execution_count": 55,
   "metadata": {
    "colab": {
     "base_uri": "https://localhost:8080/",
     "height": 241
    },
    "colab_type": "code",
    "id": "YhFeoJlSzHV4",
    "outputId": "31c8a0a1-2c4e-4717-c557-8dcd13f616b4"
   },
   "outputs": [
    {
     "name": "stdout",
     "output_type": "stream",
     "text": [
      "The sentence ' ['TensorFlow is a free and open-source software library for dataflow and differentiable programming across a range of tasks.'] '\n",
      "is in ' English ' language with  99.84663724899292 % confidence.\n",
      "\n",
      "The sentence ' ['TensorFlow è una libreria software gratuita e open source per il flusso di dati e la programmazione differenziabili in una vasta gamma di attività.'] '\n",
      "is in ' Italian ' language with  99.95958209037781 % confidence.\n",
      "\n",
      "The sentence ' ['TensorFlow es una biblioteca de software gratuita y de código abierto para el flujo de datos y la programación diferenciable en una variedad de tareas.'] '\n",
      "is in ' Spanish ' language with  99.99784231185913 % confidence.\n",
      "\n",
      "The sentence ' ['TensorFlow est une bibliothèque logicielle gratuite et open-source pour le flux de données et la programmation différenciable sur une gamme de tâches.'] '\n",
      "is in ' French ' language with  99.9789297580719 % confidence.\n",
      "\n"
     ]
    }
   ],
   "source": [
    "# I have taken a text in Englis and converted it into other languages using Google Translator\n",
    "s = [['TensorFlow is a free and open-source software library for dataflow and differentiable programming across a range of tasks.'],                               # English\n",
    "     ['TensorFlow è una libreria software gratuita e open source per il flusso di dati e la programmazione differenziabili in una vasta gamma di attività.'],      # Italian\n",
    "     ['TensorFlow es una biblioteca de software gratuita y de código abierto para el flujo de datos y la programación diferenciable en una variedad de tareas.'],  # Spanish\n",
    "     ['TensorFlow est une bibliothèque logicielle gratuite et open-source pour le flux de données et la programmation différenciable sur une gamme de tâches.']    # French\n",
    "     ]\n",
    "\n",
    "# Get the predictions and classes\n",
    "s_class, s_pred = predict_new(s)\n",
    "\n",
    "# Print the predictions and classes\n",
    "for i in range(len(s)):\n",
    "    print('The sentence \\'', s[i], '\\'\\nis in \\'', s_class[i], '\\' language with ',\n",
    "          np.max(s_pred[i])*100, '% confidence.\\n')"
   ]
  },
  {
   "cell_type": "markdown",
   "metadata": {
    "colab_type": "text",
    "id": "tySmfHkzjeyK"
   },
   "source": [
    "Our model is working great and giving correct prediction with a very high confidence."
   ]
  },
  {
   "cell_type": "markdown",
   "metadata": {
    "colab_type": "text",
    "id": "mBEFLbYbjySx"
   },
   "source": [
    "# Thank You"
   ]
  }
 ],
 "metadata": {
  "colab": {
   "collapsed_sections": [],
   "name": "Language_Classification.ipynb",
   "provenance": []
  },
  "kernelspec": {
   "display_name": "Python 3",
   "language": "python",
   "name": "python3"
  },
  "language_info": {
   "codemirror_mode": {
    "name": "ipython",
    "version": 3
   },
   "file_extension": ".py",
   "mimetype": "text/x-python",
   "name": "python",
   "nbconvert_exporter": "python",
   "pygments_lexer": "ipython3",
   "version": "3.7.6"
  }
 },
 "nbformat": 4,
 "nbformat_minor": 1
}
